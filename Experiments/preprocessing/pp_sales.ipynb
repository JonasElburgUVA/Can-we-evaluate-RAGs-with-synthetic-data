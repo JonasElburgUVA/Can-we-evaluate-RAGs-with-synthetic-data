{
 "cells": [
  {
   "cell_type": "markdown",
   "metadata": {},
   "source": [
    "# Preprocessing: Sales Buddy"
   ]
  },
  {
   "cell_type": "markdown",
   "metadata": {},
   "source": [
    "The SalesBuddy corpus has multiple source files, so requires a few extra preprocessing steps"
   ]
  },
  {
   "cell_type": "code",
   "execution_count": null,
   "metadata": {},
   "outputs": [],
   "source": [
    "import pandas as pd\n",
    "import os\n",
    "import json\n",
    "import matplotlib.pyplot as plt\n",
    "import csv\n",
    "root = os.environ[\"PROJECT_ROOT\"]\n",
    "\n",
    "datapath = os.path.join(root, \"data\", \"salesbuddy\")\n",
    "human_questions_path = os.path.join(datapath, \"human\")\n",
    "os.makedirs(human_questions_path, exist_ok=True)"
   ]
  },
  {
   "cell_type": "code",
   "execution_count": null,
   "metadata": {},
   "outputs": [],
   "source": [
    "# the correct plain content key for each file\n",
    "file_to_content_key = {\n",
    "    \"academy_kbint\" : \"plain_content\",\n",
    "    \"docs_kbint\" : \"topic_plain\",\n",
    "    \"pegacom_files\": \"Content\",\n",
    "    \"pegacom_pages\" : \"rendered_item_plain\",\n",
    "    \"saleshub_files\" : \"Content\",\n",
    "    \"saleshub_pages\": \"rendered_item_plain\"\n",
    "}\n"
   ]
  },
  {
   "cell_type": "code",
   "execution_count": null,
   "metadata": {},
   "outputs": [],
   "source": [
    "corpus_path = os.path.join(datapath, \"source_documents\", \"corpus_excel\")\n",
    "\n",
    "corpus = {}\n",
    "\n",
    "for f in os.listdir(corpus_path):\n",
    "    source = pd.read_excel(os.path.join(corpus_path, f), verbose=False)\n",
    "    \n",
    "    matched_key = next((k for k in file_to_content_key if f.startswith(k)), None)\n",
    "    if matched_key:\n",
    "        print(f\"key of {f}: {matched_key}\")\n",
    "        source_contents = source[file_to_content_key[matched_key]]\n",
    "        source_titles = source['title']\n",
    "        source_contents_list = list(source_contents[source_contents.notna()])\n",
    "        source_titles_list = list(source_titles[source_contents.notna()])\n",
    "        \n",
    "        source_subcorpus = dict(zip(source_titles_list, source_contents_list))\n",
    "        corpus.update(source_subcorpus)\n",
    "\n",
    "    \n"
   ]
  },
  {
   "cell_type": "code",
   "execution_count": null,
   "metadata": {},
   "outputs": [],
   "source": [
    "doc_lengths = [len(d.split(\" \")) for d in corpus.values()]\n"
   ]
  },
  {
   "cell_type": "code",
   "execution_count": null,
   "metadata": {},
   "outputs": [],
   "source": [
    "\n",
    "plt.hist(doc_lengths, bins=50);\n",
    "plt.ylabel(\"# Documents\")\n",
    "plt.xlabel(\"# Words\")"
   ]
  },
  {
   "cell_type": "code",
   "execution_count": null,
   "metadata": {},
   "outputs": [],
   "source": [
    "with open(os.path.join(datapath, \"corpus.json\"), \"w\", encoding=\"utf8\") as f:\n",
    "    json.dump(corpus, f, indent=3)"
   ]
  },
  {
   "cell_type": "markdown",
   "metadata": {},
   "source": [
    "Now for the questions"
   ]
  },
  {
   "cell_type": "code",
   "execution_count": null,
   "metadata": {},
   "outputs": [],
   "source": [
    "with open(os.path.join(datapath, \"source_documents\", \"SalesBuddyQuestions.csv\"), \"r\") as f:\n",
    "    csv_reader = csv.DictReader(f)\n",
    "    data = [row for row in csv_reader]\n",
    "\n",
    "    questions = [{\n",
    "        \"question\" : q[\"Prompt\"],\n",
    "        \"reference\": q[\"Answer\"]\n",
    "    } for q in data]\n",
    "\n",
    "with open(os.path.join(human_questions_path, \"questions.json\"), \"w\", encoding=\"utf8\") as f:\n",
    "    json.dump(questions, f, indent=3)"
   ]
  }
 ],
 "metadata": {
  "kernelspec": {
   "display_name": ".venv",
   "language": "python",
   "name": "python3"
  },
  "language_info": {
   "codemirror_mode": {
    "name": "ipython",
    "version": 3
   },
   "file_extension": ".py",
   "mimetype": "text/x-python",
   "name": "python",
   "nbconvert_exporter": "python",
   "pygments_lexer": "ipython3",
   "version": "3.13.1"
  }
 },
 "nbformat": 4,
 "nbformat_minor": 2
}
