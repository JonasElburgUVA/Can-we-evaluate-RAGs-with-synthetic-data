{
 "cells": [
  {
   "cell_type": "markdown",
   "metadata": {},
   "source": [
    "# Preprocessing of ASQA dataset"
   ]
  },
  {
   "cell_type": "code",
   "execution_count": null,
   "metadata": {},
   "outputs": [],
   "source": [
    "# Create the necessary subfolders...\n",
    "import os\n",
    "root = os.environ['PROJECT_ROOT']\n",
    "os.makedirs(os.path.join(root, \"data\", \"ASQA\", \"source_documents\"), exist_ok=True)\n",
    "os.makedirs(os.path.join(root, \"data\", \"ASQA\", \"human\"), exist_ok=True)"
   ]
  },
  {
   "cell_type": "markdown",
   "metadata": {},
   "source": [
    "\n",
    "After downloading ASQA according to the instructions on the official [GitHub](https://github.com/google-research/language/tree/master/language/asqa) and copying the downloaded files to `data/ASQA/source_documents`, we take some additional preprocessing steps here. This notebook cuts down the dev set data significantly through the following steps:\n",
    "\n",
    "1. Remove annotations that do not cite sources\n",
    "2. Remove annotations based on wikipedia pages that do not exist (anymore)\n",
    "3. Remove questions without any remaining annotations after step 2 and 3.\n",
    "4. Select 100 of the remaining questions.\n",
    "5. Use only one annotation per question, remove additional annotations.\n",
    "6. Create a list of all the cited wikipedia pages in the remaining annotations.\n",
    "7. Scrape these wikipedia pages to construct a corpus.\n",
    "\n",
    "This leaves us with 100 Questions, 100 annotated long-form answers, and all the necessary documents / knowledge to answer the questions.\n"
   ]
  },
  {
   "cell_type": "code",
   "execution_count": null,
   "metadata": {},
   "outputs": [],
   "source": [
    "target_n_questions = 100"
   ]
  },
  {
   "cell_type": "markdown",
   "metadata": {},
   "source": [
    "## Step 1 - remove annotations without cited sources"
   ]
  },
  {
   "cell_type": "code",
   "execution_count": null,
   "metadata": {},
   "outputs": [],
   "source": [
    "import json\n",
    "from collections import defaultdict\n",
    "import copy\n",
    "import wikipediaapi\n",
    "import tqdm\n",
    "import os\n",
    "root = os.environ['PROJECT_ROOT']\n",
    "\n",
    "split='dev' # train or dev\n",
    "\n",
    "with open(f\"{root}/data/ASQA/source_documents/ASQA.json\", encoding=\"utf8\") as f:\n",
    "    data = json.load(f)[split]\n",
    "\n",
    "keys = list(data.keys())\n",
    "N = len(keys)\n",
    "\n",
    "data_filtered = copy.deepcopy(data)\n",
    "total_annotations=0\n",
    "removed_annotations=0\n",
    "for key in keys:\n",
    "    annotations = data[key]['annotations']\n",
    "    to_remove = []\n",
    "\n",
    "    for i,a in enumerate(annotations):\n",
    "        total_annotations+=1\n",
    "        if len(a['knowledge']) == 0:\n",
    "            to_remove.append(i)\n",
    "\n",
    "    for j in reversed(to_remove):\n",
    "        del data_filtered[key]['annotations'][j]\n",
    "        removed_annotations+=1\n",
    "\n",
    "print(f\"Removed annotations: {removed_annotations} out of {total_annotations}\")\n",
    "data = data_filtered"
   ]
  },
  {
   "cell_type": "markdown",
   "metadata": {},
   "source": [
    "## Step 2 - Remove annotations based on non-reachable wikipedia pages\n",
    "\n",
    "This is not the most efficient way of working - we are scraping much more pages than we will end up using. However, this is the simplest method that retains easy control over the final amount of QA pairs."
   ]
  },
  {
   "cell_type": "code",
   "execution_count": null,
   "metadata": {},
   "outputs": [],
   "source": [
    "wiki_pages = defaultdict(lambda: set())\n",
    "wiki_pages_set = set()\n",
    "for key in data:\n",
    "    annotations = data[key]['annotations']\n",
    "    for annotation in annotations:\n",
    "        knowledges = annotation['knowledge']\n",
    "        for knowledge in knowledges:\n",
    "            wiki_pages_set.add(knowledge['wikipage'])\n",
    "            wiki_pages[key].add(knowledge['wikipage'])\n",
    "\n",
    "print(f\"Total wikipedia pages referenced: {len(wiki_pages_set)}\")\n",
    "\n"
   ]
  },
  {
   "cell_type": "code",
   "execution_count": null,
   "metadata": {},
   "outputs": [],
   "source": [
    "try:\n",
    "    with open(f\"{root}/data/ASQA/source_documents/existing_pages.json\", \"r\", encoding=\"utf8\") as f:\n",
    "        existing_pages=json.load(f)\n",
    "\n",
    "    with open(f\"{root}/data/ASQA/source_documents/non_existing_pages.json\", \"r\", encoding=\"utf8\") as f:\n",
    "        non_existing_pages=json.load(f)\n",
    "except:\n",
    "    print(\"JSON files not found. Scraping wikipedia...\")\n",
    "    wiki_wiki = wikipediaapi.Wikipedia(user_agent='RAG-Eval', language='en')\n",
    "    existing_pages = {}\n",
    "    non_existing_pages = {}\n",
    "    for page in tqdm.tqdm(list(wiki_pages_set)):\n",
    "        scraped_page = wiki_wiki.page(page)\n",
    "        if scraped_page.exists():\n",
    "            existing_pages[page] = scraped_page\n",
    "        else:\n",
    "            non_existing_pages[page] = scraped_page\n",
    "\n",
    "    \n",
    "    with open(f\"{root}/data/ASQA/source_documents/existing_pages.json\", \"w\", encoding=\"utf8\") as f:\n",
    "        json.dump(list(existing_pages.keys()), f)\n",
    "\n",
    "    with open(f\"{root}/data/ASQA/source_documents/non_existing_pages.json\", \"w\", encoding=\"utf8\") as f:\n",
    "        json.dump(list(non_existing_pages.keys()), f)\n",
    "\n",
    "        \n",
    "print(f\"Existing pages: {len(existing_pages)}\")\n",
    "print(f\"Non-existing pages: {len(non_existing_pages)}\")"
   ]
  },
  {
   "cell_type": "code",
   "execution_count": null,
   "metadata": {},
   "outputs": [],
   "source": [
    "filtered_data = copy.deepcopy(data)\n",
    "total_annotations = 0\n",
    "removed_annotations = 0\n",
    "for key in data:\n",
    "    to_remove = []\n",
    "    for i, annotation in enumerate(data[key]['annotations']):\n",
    "        knowledges = annotation['knowledge']\n",
    "        total_annotations+=1\n",
    "        for knowledge in knowledges:\n",
    "            if knowledge['wikipage'] in non_existing_pages:\n",
    "                to_remove.append(i)\n",
    "                break\n",
    "        \n",
    "    for j in reversed(to_remove):\n",
    "        del data_filtered[key]['annotations'][j]\n",
    "        removed_annotations +=1\n",
    "\n",
    "print(f\"Removed annotations: {removed_annotations} out of {total_annotations}\")\n",
    "data = data_filtered"
   ]
  },
  {
   "cell_type": "markdown",
   "metadata": {},
   "source": [
    "## Step 3 - Remove questions without any remaining annotations"
   ]
  },
  {
   "cell_type": "code",
   "execution_count": null,
   "metadata": {},
   "outputs": [],
   "source": [
    "filtered_data = copy.deepcopy(data)\n",
    "removed_questions=0\n",
    "for key in data:\n",
    "    annotations = data[key]['annotations']\n",
    "    if len(annotations) == 0:\n",
    "        removed_questions +=1\n",
    "        del filtered_data[key]\n",
    "\n",
    "print(f\"Removed {removed_questions} out of {N} questions.\")\n",
    "N = N-removed_questions\n",
    "data = filtered_data"
   ]
  },
  {
   "cell_type": "markdown",
   "metadata": {},
   "source": [
    "## Step 4 and 5 - Select 100 questions, and one annotation per question"
   ]
  },
  {
   "cell_type": "code",
   "execution_count": null,
   "metadata": {},
   "outputs": [],
   "source": [
    "data = {k:v for k,v in list(data.items())[:target_n_questions]}\n",
    "len(data)\n",
    "filtered_data = copy.deepcopy(data)\n",
    "\n",
    "deleted_annotations = 0\n",
    "total_annotations = 0\n",
    "for key in data:\n",
    "    n_annotations = len(data[key]['annotations'])\n",
    "    total_annotations += n_annotations\n",
    "    if n_annotations > 1:\n",
    "        del filtered_data[key]['annotations'][1:]\n",
    "        deleted_annotations+= (n_annotations-1)\n",
    "\n",
    "print(f\"Deleted {deleted_annotations} out of {total_annotations} annotations.\")\n",
    "\n",
    "data = filtered_data\n"
   ]
  },
  {
   "cell_type": "markdown",
   "metadata": {},
   "source": [
    "## Step 6 - create a list of all the cited wikipedia pages in the remaining annotations"
   ]
  },
  {
   "cell_type": "code",
   "execution_count": null,
   "metadata": {},
   "outputs": [],
   "source": [
    "wiki_pages = defaultdict(lambda: set())\n",
    "wiki_pages_set = set()\n",
    "for key in data:\n",
    "    annotations = data[key]['annotations']\n",
    "    for annotation in annotations:\n",
    "        knowledges = annotation['knowledge']\n",
    "        for knowledge in knowledges:\n",
    "            wiki_pages_set.add(knowledge['wikipage'])\n",
    "            wiki_pages[key].add(knowledge['wikipage'])\n",
    "\n",
    "print(f\"Total wikipedia pages referenced: {len(wiki_pages_set)}\")"
   ]
  },
  {
   "cell_type": "markdown",
   "metadata": {},
   "source": [
    "## Step 7 - Scrape the pages to get the corpus\n"
   ]
  },
  {
   "cell_type": "code",
   "execution_count": null,
   "metadata": {},
   "outputs": [],
   "source": [
    "wiki_wiki = wikipediaapi.Wikipedia(user_agent='RAG-Eval', language='en')\n",
    "corpus_pages = {}\n",
    "for page in tqdm.tqdm(list(wiki_pages_set)):\n",
    "        scraped_page = wiki_wiki.page(page)\n",
    "        if scraped_page.exists():\n",
    "            corpus_pages[page] = scraped_page\n",
    "        else:\n",
    "            print(f\"WARNING: {page} was not found\")\n",
    "            continue\n"
   ]
  },
  {
   "cell_type": "code",
   "execution_count": null,
   "metadata": {},
   "outputs": [],
   "source": [
    "corpus_texts = {\n",
    "    key:document.text for key,document in corpus_pages.items()\n",
    "}"
   ]
  },
  {
   "cell_type": "markdown",
   "metadata": {},
   "source": [
    "## Save all the files"
   ]
  },
  {
   "cell_type": "code",
   "execution_count": null,
   "metadata": {},
   "outputs": [],
   "source": [
    "with open(f\"{root}/data/ASQA/corpus.json\", \"w\", encoding=\"utf8\") as f:\n",
    "    json.dump(corpus_texts, f, indent=3)"
   ]
  },
  {
   "cell_type": "code",
   "execution_count": null,
   "metadata": {},
   "outputs": [],
   "source": [
    "qa_pairs = []\n",
    "for key in data:\n",
    "    qa_pairs.append({\n",
    "        \"question\" : data[key]['ambiguous_question'],\n",
    "        \"reference\": data[key]['annotations'][0]['long_answer']\n",
    "    })\n",
    "\n",
    "qa_pairs\n",
    "with open(f\"{root}/data/ASQA/human/questions.json\", \"w\", encoding=\"utf8\") as f:\n",
    "    json.dump(qa_pairs, f, indent=3)\n",
    "    "
   ]
  },
  {
   "cell_type": "markdown",
   "metadata": {},
   "source": [
    "# ===================="
   ]
  }
 ],
 "metadata": {
  "kernelspec": {
   "display_name": ".venv",
   "language": "python",
   "name": "python3"
  },
  "language_info": {
   "codemirror_mode": {
    "name": "ipython",
    "version": 3
   },
   "file_extension": ".py",
   "mimetype": "text/x-python",
   "name": "python",
   "nbconvert_exporter": "python",
   "pygments_lexer": "ipython3",
   "version": "3.13.1"
  }
 },
 "nbformat": 4,
 "nbformat_minor": 2
}
