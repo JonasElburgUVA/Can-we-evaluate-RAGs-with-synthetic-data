{
 "cells": [
  {
   "cell_type": "markdown",
   "metadata": {},
   "source": [
    "# Preprocessing of a dataset\n",
    "\n",
    "To pre-process a dataset, you need to obtain a human question-answer set and a matching Knowledge Base. These should be saved in  a specific format to ensure the rest of the code works as expected.\n"
   ]
  },
  {
   "cell_type": "markdown",
   "metadata": {},
   "source": [
    "## Paths\n",
    "If you create a new dataset, it should be structured as follows:\n",
    "\n",
    "```\n",
    "📂 data \n",
    "├── 📂 SQuAD\n",
    "|   ├── 📂source_documents \n",
    "|   |   ├── dev-v2.0.json\n",
    "|   |   ├── train-v2.0.json\n",
    "|   |   📂human\n",
    "|   |   ├── questions.json \n",
    "|   ├── corpus.json \n",
    "├── 📂 *{MY_DATASET_NAME}*\n",
    "|   ├── 📂source_documents \n",
    "|   |   ├── {YOUR_SOURCE_FILE_1}.csv \n",
    "|   |   ├── ...\n",
    "|   ├── 📂human\n",
    "```\n",
    "\n",
    "The `corpus.json` and `questions.json` files will then be created by a preprocessing notebook.\n",
    "\n",
    "the code below creates the correct file tree for you so that you only have to drag your source files in place.\n"
   ]
  },
  {
   "cell_type": "code",
   "execution_count": 1,
   "metadata": {},
   "outputs": [],
   "source": [
    "name = \"example_dataset\"\n",
    "create_folders=True"
   ]
  },
  {
   "cell_type": "code",
   "execution_count": null,
   "metadata": {},
   "outputs": [],
   "source": [
    "if create_folders:\n",
    "    import os\n",
    "    root = os.environ['PROJECT_ROOT']\n",
    "    os.makedirs(os.path.join(root, \"data\", name, \"source_documents\"))\n",
    "    os.makedirs(os.path.join(root, \"data\", name, \"human\"))"
   ]
  },
  {
   "cell_type": "markdown",
   "metadata": {},
   "source": [
    "## Saving the corpus\n",
    "The corpus should be saved to `data/{MY_DATASET_NAME}/corpus.json` as follows:\n",
    "\n",
    "```json\n",
    "{\n",
    "    \"{document_title_a}\" : \"{document_content_a}\",\n",
    "    \"{document_title_b}\" : \"{document_content_b}\",\n",
    "    ...\n",
    "    \"{document_title_z}\" : \"{document_content_z}\"\n",
    "}\n",
    "```\n",
    "\n"
   ]
  },
  {
   "cell_type": "markdown",
   "metadata": {},
   "source": [
    "## Saving the human questions and reference answers\n",
    "The human questions and reference answers should be saved to `data/{MY_DATASET_NAME}/human/questions.json`.\n",
    "\n",
    "Here there are two options:\n",
    "1. The first option is for when you do not know the appropriate source document from the corpus based on which a question's reference answer is formulated. \n",
    "2. The second option is for when this source document is known, and you want to keep this information.\n",
    "\n",
    "### Option A - no source document known\n",
    "Questions should be saved as a list of dictionaries with keys `question` and `reference`:\n",
    "\n",
    "```json\n",
    "[\n",
    "    {\n",
    "        \"question\" : \"{question_a}\",\n",
    "        \"reference\" : \"{reference_answer_a}\"\n",
    "    },\n",
    "    {\n",
    "        \"question\" : \"{question_b}\",\n",
    "        \"reference\" : \"{reference_answer_b}\"\n",
    "    }\n",
    "]\n",
    "```\n",
    "\n",
    "### Option B - source document known\n",
    "If the source document of each question is known, as is for example the case in the SQuAD dataset, you may want to save this information. In that case, you can save it in the structure outlined below. If you run experiments with such datasets, ensure to set `use_doc_ids` to True in your experiment config file.\n",
    "\n",
    "```json\n",
    "{\n",
    "    \"{doc_title_a}\" :\n",
    "    [\n",
    "        {\n",
    "            \"question\" : \"{doc_a_question_a}\",\n",
    "            \"reference\" : \"{doc_a_reference_answer_a}\"\n",
    "        },\n",
    "        {\n",
    "            \"question\" : \"{doc_a_question_b}\",\n",
    "            \"reference\" : \"{doc_a_reference_answer_b}\"\n",
    "        }\n",
    "    ],\n",
    "    \"{doc_title_b}\" :\n",
    "    [\n",
    "        {\n",
    "            \"question\" : \"{doc_b_question_a}\",\n",
    "            \"reference\" : \"{doc_b_reference_answer_a}\"\n",
    "        },\n",
    "        {\n",
    "            \"question\" : \"{doc_b_question_b}\",\n",
    "            \"reference\" : \"{doc_b_reference_answer_b}\"\n",
    "        }\n",
    "    ]\n",
    "}\n",
    "```"
   ]
  },
  {
   "cell_type": "markdown",
   "metadata": {},
   "source": []
  }
 ],
 "metadata": {
  "kernelspec": {
   "display_name": ".venv",
   "language": "python",
   "name": "python3"
  },
  "language_info": {
   "codemirror_mode": {
    "name": "ipython",
    "version": 3
   },
   "file_extension": ".py",
   "mimetype": "text/x-python",
   "name": "python",
   "nbconvert_exporter": "python",
   "pygments_lexer": "ipython3",
   "version": "3.13.1"
  }
 },
 "nbformat": 4,
 "nbformat_minor": 2
}
