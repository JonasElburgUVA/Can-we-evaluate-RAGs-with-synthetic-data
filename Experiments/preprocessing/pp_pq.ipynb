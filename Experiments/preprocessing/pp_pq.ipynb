{
 "cells": [
  {
   "cell_type": "markdown",
   "metadata": {},
   "source": [
    "# PegaQuestions (Launchpad) preprocessing\n",
    "This is an example of processing a custom dataset. In this case, we received \n",
    "- a `QA pair.csv` file with \"question\" and \"answer\" columns\n",
    "- a `docs_launchpad_content.csv` file with page_key, page_id, title, topic_language, topic_html, topic_plain, versions, products, capabilities, industries, content_types, labels_text, updated_date, status, dates, bundle_id, and created_date columns.\n",
    "\n",
    "These files were saved to `{root}/data/launchpad/source_documents`"
   ]
  },
  {
   "cell_type": "code",
   "execution_count": 26,
   "metadata": {},
   "outputs": [],
   "source": [
    "import os\n",
    "import csv\n",
    "import json\n",
    "root = os.environ[\"PROJECT_ROOT\"]\n",
    "\n",
    "datapath = os.path.join(root, \"data\", \"launchpad\")\n",
    "human_questions_path = os.path.join(datapath, \"human\")\n",
    "os.makedirs(human_questions_path, exist_ok=True)"
   ]
  },
  {
   "cell_type": "markdown",
   "metadata": {},
   "source": [
    "First we process the corpus"
   ]
  },
  {
   "cell_type": "code",
   "execution_count": null,
   "metadata": {},
   "outputs": [],
   "source": [
    "with open(os.path.join(datapath,\"source_documents\", \"docs_launchpad_content.csv\"), \"r\") as f:\n",
    "    csv_reader = csv.DictReader(f)\n",
    "    data = [row for row in csv_reader]\n",
    "\n",
    "corpus = {\n",
    "    d[\"title\"] : d['topic_plain'] for d in data\n",
    "}\n",
    "\n",
    "with open(os.path.join(datapath, \"corpus.json\"), \"w\", encoding=\"utf8\") as f:\n",
    "    json.dump(corpus, f, indent=3)"
   ]
  },
  {
   "cell_type": "markdown",
   "metadata": {},
   "source": [
    "Then the questions"
   ]
  },
  {
   "cell_type": "code",
   "execution_count": null,
   "metadata": {},
   "outputs": [],
   "source": [
    "with open(os.path.join(datapath,\"source_documents\", \"QA pairs.csv\"), \"r\") as f:\n",
    "    csv_reader = csv.DictReader(f)\n",
    "    data = [row for row in csv_reader]\n",
    "\n",
    "questions = [{\n",
    "    \"question\" : q['Question'],\n",
    "    \"reference\": q['Answer']\n",
    "} for q in data]\n",
    "\n",
    "with open(os.path.join(human_questions_path, \"questions.json\"), \"w\", encoding=\"utf8\") as f:\n",
    "    json.dump(questions, f, indent=3)"
   ]
  }
 ],
 "metadata": {
  "kernelspec": {
   "display_name": ".venv",
   "language": "python",
   "name": "python3"
  },
  "language_info": {
   "codemirror_mode": {
    "name": "ipython",
    "version": 3
   },
   "file_extension": ".py",
   "mimetype": "text/x-python",
   "name": "python",
   "nbconvert_exporter": "python",
   "pygments_lexer": "ipython3",
   "version": "3.13.1"
  }
 },
 "nbformat": 4,
 "nbformat_minor": 2
}
