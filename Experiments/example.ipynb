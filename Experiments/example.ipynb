{
 "cells": [
  {
   "cell_type": "markdown",
   "metadata": {},
   "source": [
    "# Example - one evaluation\n",
    "In this notebook we walk you through an evaluation of a single buddy with some synthetic questions."
   ]
  },
  {
   "cell_type": "markdown",
   "metadata": {},
   "source": [
    "On your KB platform, initiate the following:\n",
    "- A DataSource named \"football\" in the Collection \"knowledge\"\n",
    "- A Buddy named \"FootballBuddy\", with the \"football\" DataSource as knowledge.\n",
    "\n",
    "Once this is done, set up your API keys in your .env file. Then, this notebook will walk you through a simple evaluation of your buddy with synthetic data."
   ]
  },
  {
   "cell_type": "code",
   "execution_count": 1,
   "metadata": {},
   "outputs": [],
   "source": [
    "config = \"example\"\n",
    "collection = \"knowledge\" # change this if you want to add your datasource to a different collection"
   ]
  },
  {
   "cell_type": "code",
   "execution_count": 2,
   "metadata": {},
   "outputs": [
    {
     "name": "stderr",
     "output_type": "stream",
     "text": [
      "c:\\Users\\VANEJ\\Documents\\git\\RAG Evaluation with Minimal Labels\\.venv\\Lib\\site-packages\\tqdm\\auto.py:21: TqdmWarning: IProgress not found. Please update jupyter and ipywidgets. See https://ipywidgets.readthedocs.io/en/stable/user_install.html\n",
      "  from .autonotebook import tqdm as notebook_tqdm\n"
     ]
    }
   ],
   "source": [
    "import os\n",
    "import sys\n",
    "import json\n",
    "root = os.environ[\"PROJECT_ROOT\"]\n",
    "sys.path.append(root)\n",
    "import pdstools.infinity.client as client\n",
    "import random\n",
    "from utils.aync_question import question_async\n",
    "from functools import partial\n",
    "import pandas as pd\n",
    "import yaml\n",
    "from utils.utils_eval import eval_dataset\n",
    "from utils.dataset import MultiDocDataSet\n",
    "import wikipediaapi\n",
    "import copy\n",
    "from langchain_core.prompts import ChatPromptTemplate\n",
    "from tqdm import tqdm"
   ]
  },
  {
   "cell_type": "code",
   "execution_count": 3,
   "metadata": {},
   "outputs": [],
   "source": [
    "random.seed(0)\n",
    "\n",
    "with open(os.path.join(root, \"configs\", \"experiments\", f\"{config}.yaml\"), \"r\") as f:\n",
    "    config = yaml.safe_load(f)\n",
    "\n",
    "eval_set_name = config.get(\"eval_set_name\", \"human\")\n",
    "num_questions = config.get(\"num_questions\", None)\n",
    "\n",
    "cl = client.Infinity.from_basic_auth(\n",
    "    pega_version='24.2',\n",
    "    timeout=100000,\n",
    "    user_name=os.environ[\"PEGA_USERNAME\"],\n",
    "    password=os.environ[\"PEGA_PASSWORD\"])\n",
    "\n",
    "cl.knowledge_buddy.question_async = partial(question_async, self=cl)"
   ]
  },
  {
   "cell_type": "markdown",
   "metadata": {},
   "source": [
    "## Data preparation and ingestion\n",
    "1. **Preparing the corpus**\n",
    "\n",
    "For this example, we will scrape a single wikipedia page and treat this as our corpus."
   ]
  },
  {
   "cell_type": "code",
   "execution_count": 4,
   "metadata": {},
   "outputs": [
    {
     "data": {
      "text/plain": [
       "{'FC Utrecht': 'Football Club Utrecht (Dutch pronunciation: [ɛfˈseː ˈytrɛxt]) is a Dutch professional football club based in Utrecht. The club competes in the Eredivisie, the top tier of Dutch football, and plays its home matches at the Stadion Galgenwaard. The club was formed in 1970 as a merger between local clubs VV DOS, USV Elinkwijk and Velox. Since then, the club has won three national cup tournaments: in 1985, 2003 and 2004, also winning the Johan Cruyff Shield in 2004 as the first club outside the traditional Dutch Big Three. Utrecht is also the only club outside the Big Three which has never suffered relegation from the top-flight Eredivisie. Utrecht have competed in 15 European campaigns, reaching the group stages of the 2004–05 UEFA Cup and the 2010–11 UEFA Europa League, their best European results. History 1970–1979: Merger and early years In the late 1960s, the municipality of Utrecht initiated talks of a merger between the professional departments of VV DOS, Velox and USV Elinkwijk with the aim of continuing to guarantee professional football at top level in the city. DOS was the largest of the three clubs, and had won a national championship in 1958. With stout defensive tactics, the club had narrowly escaped relegation for three successive years, and mismanagement had left the club on the brink of bankruptcy. A cynical comment from that time was: \"The club can do nothing, not even relegate.\" Merger plans were experienced less positively at Velox and Elinkwijk. Velox had been promoted to the Eerste Divisie in the early 1960s and had been close to achieving promotion to the Eredivisie a few times. In 1968, however, the team relegated to the third-tier Tweede Divisie again. Elinkwijk had been more successful than Velox. A yo-yo club, Elinkwijk alternated seasons in the bottom of the Eredivisie with seasons in the top of the Eerste Divisie. In addition, there was a sentiment in Elinkwijk that it was not originally an Utrecht-based club, but that it belonged more to the town of Zuilen which was an independent municipality until 1954. The club had no preference for the impending merger, but eventually gave in to pressure from the municipality. During the merger talks, Elinkwijk tried to secure a spot in the highest league of amateur football, but was instead placed in the Tweede Klasse. The following season, the club won the championship and as a result promoted to the Eerste Klasse. On 1 July 1970, the merger became a fact and FC Utrecht was founded. Since VV DOS had managed to avoid relegation from the Eredivisie in the season before, the new club could immediately play at the highest level in its inaugural season. Utrechts\\'s home ground became Stadion Galgenwaard, which had previously been the VV DOS home ground, the largest stadium of the three parent clubs. The first manager of Utrecht became Bert Jacobs, the then 29-year-old head coach of Velox, who was joined by 24-year-old Fritz Korbach from USV Elinkwijk as assistant. Their assignment was to forge one club with one culture from its three cores and three different identities. In the first season, the Utrecht first-team squad consisted almost entirely of former players from DOS, Velox and USV Elinkwijk. Only one outside player was recruited, as defender Co Adriaanse was signed for ƒ 125,000 from De Volewijckers from Amsterdam. The core of the squad also consisted of former DOS players Cor Hildebrand, Ed van Stijn, Piet van Oudenallen, Tom Nieuwenhuys and John Steen Olsen, former Elinkwijk players Joop Leliveld, Jan Blaauw, Dick Teunissen and Jan Groenendijk and former Velox player Marco Cabo. Their first official match was against defending European Cup winners Feyenoord. Groenendijk scored Utrecht\\'s first goal, but despite the 0–1 lead, the team eventually lost 4–1. The club finished in 9th place in its inaugural season, a solid midtable finish. 1980–1990: Near bankruptcy and revival In the first ten years of its existence, Utrecht grew steadily. Important players from that period were Hans van Breukelen, Leo van Veen and Willem van Hanegem. In the early 1980s, it was decided to construct a new stadium, which was called Nieuw Galgenwaard. The tide turned in 1981 when the Dutch Fiscal Information and Investigation Service (FIOD) opened an investigation into the club. They could reveal a series of financial malpractices, including transfer and salary costs of various players being financed illegally. Between 1976 and 1980, the club had not paid national insurance contributions and taxes on signing bonuses. In addition, there had been committed fraud with receipts. The club could not meet the stated additional tax and was placed under a debt moratorium. Bankruptcy, at that point, seemed inevitable. Various campaigns were organised by players and supporters, and through a petition, the club managed to collect 66,000 signatures for the retention of the club. Under the leadership of goalkeeper Hans van Breukelen, first-team players went canvassing with FC Utrecht merchandise and recorded a single entitled \"We geven het niet op\" (\"We don\\'t give up\"). The municipality of Utrecht eventually decided to respond to the massive local support and covered expenses. The early 1980s, under the leadership of head coach and former player Han Berger, were successful. The team finished in fifth place in 1980, third in 1981 and fifth place in 1982 of the Eredivisie and in 1982 the club also reached the KNVB Cup final, which was lost to AZ \\'67. The team also played European football for the first time in club history. The success was in large part due to the large number of youth players that broke through to the first team during these years. Out of eighteen first-team players reaching the cup final in 1982, fourteen were academy players, including van Breukelen, Gert Kruys, Willy Carbo and Ton de Kruijk. Many of these players, such as Leo van Veen, Frans Adelaar, Willem van Hanegem, Ton du Chatinier and Jan Wouters, would later return to the club as managers. Although the club went through a golden era results-wise, the club was far from healthy financially. To keep the club afloat, key players were let go every season. Van Breukelen left for Nottingham Forest in 1982, Carbo for Club Brugge in 1983 and Rob de Wit for Ajax in 1983. As a result, Utrecht dropped from a near-top side to more mid-table finishes in the Eredivisie table in the mid-1980s. On 1 April 1985, Utrechts Nieuwsblad published an article about an imminent takeover of the club. A consortium of, among others, the English newspaper magnate Robert Maxwell, Philips, KLM and Johan Cruyff, were said to have plans to invest heavily in Utrecht and acquire a majority shareholding. The supporters of the club were strongly against the takeover, however, especially due to the interference of Ajax legend, Cruyff. Ultimately, the takeover failed. 1991–2005: Troubled 1990s, success and tragedy After a number of weaker years, Utrecht reached fourth place in the Eredivisie in 1990–91, led by manager Ab Fafié and with players such as Johan de Kock, Jan Willem van Ede and Rob Alflen and top goalscorer of the season, Włodzimierz Smolarek. After this, however, things went downhill for the club. Because Utrecht missed out on European qualification, incomes were lost. Between 1989 and 1996, six managers led the team and there were just as many changes in the board of directors. Quarrels and financial issues arose, which again meant that key players had to be sold to close the holes in the budget. Alflen left for Ajax in 1991, de Kock left for Roda JC in 1994 and Ferdi Vierklau moved to Vitesse in 1996. Main sponsor AMEV intervened in the dire financial situation in 1996. The club received a financial injection in exchange for a substantial shareholder position. The insurance company appointed Hans Herremans as club chairman. Many investments were made immediately in 1996, as Errol Refos, Rob Witschge and former Utrecht player John van Loen came over from Feyenoord, Reinier Robbemond from Dordrecht, Dick van Burik from NAC and Michael Mols from Twente. Ronald Spelbos was appointed manager with Jan Wouters as assistant. In 1998, a complete renovation of the Stadion Galgenwaard was initiated, designed by ZJA Zwarts & Jansma Architecten. Despite the capital injection, successes on the pitch failed to materialise during the first years, and a number of managers were hired and fired in rapid succession. In 1993, the team reached a relatively successful eighth place, but for the next eight years, until 2001, the club was unable climb to a higher position than tenth place in the table. In 1994 and 1996, the club even finished 15th, just above the relegation spots. In 1996, the team won only six matches, including an important 1–2 win at Twente, which meant that the promotion/relegation play-offs were avoided. Only in 2001, Utrecht managed to achieve European qualification again with a fifth-place finish, led by former player Frans Adelaar, who had become manager. Utrecht finished with the same number of points as RKC Waalwijk, Roda JC and Vitesse, but secured fifth place on goal difference. In 2002, the team lost the final of the KNVB Cup to Ajax, but in 2003 and 2004, the team, which had come under the leadership of Foeke Booy, managed to win the cup. Important players in this period included Dirk Kuyt, Tom Van Mol, Jean-Paul de Jong, Pascal Bosschaart and Stijn Vreven. In 2004, the Johan Cruyff Shield was also won at the expense of Ajax (2–4), as Hans Somers claimed a key role with two crucial goals. As a result of, among other things, a new financial crisis and a lack of lucrative transfers, Utrecht was again on the brink of collapse in the spring of 2003. There was no more money to pay Midreth, the company responsible for constructing the renovation of the stadium. At that time, the stadium was largely finished. Since the material for the construction had already been delivered, the construction company advanced the costs, about € 5.5 million. However, this once again left the club with a substantial debt. Bankruptcy was averted with a remediation and the sale of all properties, including the stadium, to, among others, the municipality of Utrecht and Midreth. In the following years, FC Utrecht returned to the mid-table of the Eredivisie. On 29 November 2005, French defender and fan favourite, David Di Tommaso died suddenly at the age of 26. Di Tommaso had suffered a cardiac arrest in his sleep. The club subsequently retired Di Tommaso\\'s kit number, 4. At the end of each season, the David Di Tommaso Trophy is awarded to the player who was considered of the most valuable that season by fans; the winner is determined by an internet poll. Before his death, Di Tommaso had been the most recent winner of the FC Utrecht Player of the Year, and the award was named after him since then. 2005–2008: Phanos takeover After the averted bankruptcy of 2003, Utrecht, despite participating in the UEFA Cup in 2003 and 2004, was no longer able to get out of debt. In July 2007, real estate company Phanos first showed interest in taking over the club. For the symbolic amount of €1, Phanos wanted to take over the club, including all outstanding debts. The company then intended to demolish the existing stadium to make the site available for housing. The company would then build a new stadium near the new Leidsche Rijn district. Phanos also wanted the club to become a serious contender in the Eredivisie by means of financial injections. The plan was met with a lot of resistance from supporters, as the Stadion Galgenwaard had seen a radical renovation recently. Subsequently, a conflict broke out between chairman Jan Willem van Dop, who had come over as director of Feyenoord in 2005, and the supervisory board. The board accused Van Dop of financial mismanagement, poor communication and egotistical behavior, including the recruitment of manager Willem van Hanegem and striker Kevin Vandenbergh. On 3 September 2007, van Dop was relieved from his duties as chairman, but was put back in office three days later after summary proceedings. As a result, the entire supervisory board decided to step down. 2008–present: Van Seumeren era On 2 April 2008, the Utrecht board announced in a press conference that the club had found a suitable takeover candidate in entrepreneur Frans van Seumeren, former director of the Mammoet logistics company. Van Seumeren acquired 63% of the shares of Utrecht bv for €16 million. He promised to commit to the club for a period of at least ten years and to reinvest any proceeds in the club. He set the goal that the club had to reconnect with the subtop of the league table within a few years, comparable to a club like Heerenveen. Van Seumeren took place in the new supervisory board, of which Jacques van Ek became chairman. Despite the fact that previous takeover candidate Phanos had failed to comply with the agreement between Utrecht and van Seumeren, they remained affiliated with the club as main shirt sponsor until March 2011. In his role as new owner of the club, van Seumeren was actively involved in the club\\'s footballing policy. In the summer of 2008, against the wishes of head coach van Hanegem, he meddled with the composition of the technical staff by replacing assistant coaches John van Loen and David Nascimento, strength and conditioning coach Rob Druppers and goalkeeping coach Maarten Arts. At the end of 2008, he fired van Hanegem, after he had repeatedly expressed negative opinion on van Seumeren. Technical director Piet Buter also left afterwards. They were replaced by the duo Ton du Chatinier and Foeke Booy as head coach and technical advisor, respectively. In 2011, chairman van Dop left Utrecht. In the same year, Wilco van Schaik was appointed as new director of the club. The change of function endorsed the conversion of Utrecht from a football association to a vennootschap (private limited company). Du Chatinier was sacked in the summer of 2011 and replaced by assistant Jan Wouters. Despite having a successful resume in terms of player sales and signings, Booy was also let go in 2012 after disappointing results on the pitch. In the 2012–13 season, Utrecht would go on to have one its best seasons historical seasons, finishing fifth in the league table, winning the play-offs for European football and equaling the club points record from 1981 (63 points). The following season, however, turned out to be a setback; Utrecht was eliminated in the second qualifying round of the UEFA Europa League by Differdange 03 from Luxembourg. Utrecht eventually finished tenth in the league. When Wouters decided not to renew his contract in 2014, after having been head coach for three years, a new direction was taken in terms of technical policy. Co Adriaanse was appointed as technical advisor, a position that has been vacant since Booy\\'s departure in 2012. Adriaanse obtained an advisory, but not binding, voice in player policy, and was given powers in composing the club\\'s coaching staff. Rob Alflen, assistant under Wouters, would provide the training sessions. The pair were hired with the purpose of making Utrecht play more attacking, attractive football. Alflen disappointed, only leading Utrecht to eleventh place in the league table, and he was let go after only one season in charge in 2015. Erik ten Hag was appointed as his replacement, coming from a position as Bayern Munich II manager. Club icon Jean-Paul de Jong was appointed as his assistant. Adriaanse also left the club, with Ten Hag taking the extra role as technical manager. The 2015–16 season proved to be highly successful, with Utrecht ending in fifth place of the Eredivisie table and reaching the KNVB Cup final, which was lost 2–1 to Feyenoord. Utrecht would also lose the final of the play-offs for European football to Heracles Almelo. The reserves team of the club, Jong Utrecht, however, became champions of the Beloften Eredivisie in the 2015–16 season. With changes made to the Dutch football league system, Jong Utrecht was therefore promoted to the second-tier Eerste Divisie. In the 2016–17 season, Utrecht secured a fourth-place finish with two match-days left to play. In the final of the play-offs for European football, they beat AZ Alkmaar was after an exciting diptych (0–3, 3–0, 4–3 after penalty shoot-out). As a result of Utrecht\\'s success, Ten Hag was appointed new head coach of Ajax with assistant De Jong taking over as head coach on 1 January 2018. Stadium Utrecht\\'s stadium is the Stadion Galgenwaard, previously named the Galgenwaard, then later the Nieuw Galgenwaard. It has a current capacity of 23,750 spectators. The attendance on average was 19,600 people in 2004–05, while the average attendance rose to 20,004 in 2006–07. The 2023–24 season saw an alltime high in average attendance with 20,500 people visiting on average. The stadium also accommodates several shops, offices and the supporters home of the Utrecht fan club (Supporters Vereniging Utrecht), one of the largest of its kind in Europe. Honours National National champions (highest level of Dutch football) Winners: 1957–58 (as VV DOS) Runners-up: 1953–54 (as VV DOS) District champions (highest level of Dutch football before 1956–57) Winners: 1953–54 (as VV DOS), 1955–56 (as USV Elinkwijk) Eerste divisie (second highest level of Dutch football) Runners-up: 1964–65 (as USV Elinkwijk) Tweede Divisie (third highest level of Dutch football) Winners: 1961–62 (as Velox) Runners-up: 1969–70 (as Velox, joint with FC Wageningen but deciding match was never played because of the merger) KNVB Cup Winners: 1984–85, 2002–03, 2003–04 Runners-up: 1981–82, 2001–02, 2015–16 Other: 2019–20 (final was cancelled due to the COVID-19 pandemic) Johan Cruijff Schaal Winners: 2004 Runners-up: 2003 European Intertoto Cup/Summer Cup Joint Winners: 1978 Utrecht in European Competition Utrecht\\'s first competitive European match, in the team\\'s current iteration (not as DOS), was on 17 September 1980, in the 1980–81 UEFA Cup, playing FC Argeş Piteşti to a 0–0 draw. Since then, the club has participated in fourteen UEFA competitions, advancing as far as the group stage in the 2004–05 UEFA Cup and the 2010–11 UEFA Europa League Accurate as of 1 August 2019 Source: UEFA.comPld = Matches played; W = Matches won; D = Matches drawn; L = Matches lost; GF = Goals for; GA = Goals against; GD = Goal Difference. Defunct competitions indicated in italics. UEFA Current ranking As of 1 December 2023 Domestic results Below is a table with Utrecht\\'s results since the introduction of the Eredivisie in 1956. Players Current squad As of 4 February 2025 Note: Flags indicate national team as defined under FIFA eligibility rules; some limited exceptions apply. Players may hold more than one non-FIFA nationality. Out on loan Note: Flags indicate national team as defined under FIFA eligibility rules; some limited exceptions apply. Players may hold more than one non-FIFA nationality. Youth squad Retired numbers Records As of 17 May 2017 Players in bold text are still active. Former players National team players The following players were called up to represent their national teams in international football and received caps during their tenure with FC Utrecht: Players in bold actively play for FC Utrecht and for their respective national teams. Years in brackets indicate careerspan with Utrecht. National team players by Confederation Member associations are listed in order of most to fewest current and former FC Utrecht players represented internationally Players in international tournaments The following is a list of FC Utrecht players who have competed in international tournaments, including the FIFA World Cup, UEFA European Championship, Africa Cup of Nations, AFC Asian Cup, CONCACAF Gold Cup, and the Caribbean Cup. To this date no FC Utrecht players have participated in the Copa América, or the OFC Nations Cup while playing for FC Utrecht. Board and staff Current staff List of FC Utrecht coaches Kit manufacturers See also Dutch football league teams == References =='}"
      ]
     },
     "execution_count": 4,
     "metadata": {},
     "output_type": "execute_result"
    }
   ],
   "source": [
    "# Initialize wikipedia scraper\n",
    "wiki_wiki = wikipediaapi.Wikipedia(user_agent='RAG-Eval', language='en')\n",
    "scraped_page = wiki_wiki.page(\"FC Utrecht\")\n",
    "\n",
    "# Obtain the raw text without too many whitespaces.\n",
    "text = \" \".join([s.strip() for s in scraped_page.text.split()])\n",
    "\n",
    "# Format the corpus as {DOC_TITLE : DOC_TEXT}\n",
    "corpus = {scraped_page.title : text}\n",
    "\n",
    "# Save the corpus\n",
    "datapath = f\"{root}/data/{config['dataset_name']}\"\n",
    "os.makedirs(datapath, exist_ok=True)\n",
    "with open(os.path.join(datapath, \"corpus.json\"), \"w\", encoding=\"utf8\") as f:\n",
    "    json.dump(corpus, f, indent=3)\n",
    "\n",
    "corpus"
   ]
  },
  {
   "cell_type": "markdown",
   "metadata": {},
   "source": [
    "2. **Ingesting the corpus**\n",
    "\n",
    "We now ingest our corpus into the correct DataSource on our Knowledge Buddy platform. To do this, we first load our template ingestion file, and then update the values to our own.\n",
    "\n"
   ]
  },
  {
   "cell_type": "code",
   "execution_count": 5,
   "metadata": {},
   "outputs": [],
   "source": [
    "dataset_name = config[\"dataset_name\"]\n",
    "ingestion_template_path = f\"{root}/data/ingestion/ingestion_single_doc.json\"\n",
    "chunk_overlap = 200 #chars\n",
    "chunk_size = 1000 #chars\n",
    "\n",
    "with open(ingestion_template_path, \"rb\") as f:\n",
    "    template = json.load(f)\n",
    "\n",
    "ingestions = []\n",
    "for i, (title, content) in enumerate(corpus.items()):\n",
    "    ingestion = copy.deepcopy(template)\n",
    "    ingestion[\"text\"][0][\"content\"] = content\n",
    "    ingestion[\"dataSource\"] = dataset_name\n",
    "    ingestion[\"title\"] = title\n",
    "    ingestion[\"collection\"] = collection\n",
    "    ingestion[\"objectId\"] = title\n",
    "    ingestion[\"chunkSize\"] = chunk_size\n",
    "    ingestion[\"chunkOverlap\"] = chunk_overlap\n",
    "\n",
    "    ingestions.append(ingestion)"
   ]
  },
  {
   "cell_type": "markdown",
   "metadata": {},
   "source": [
    "Then, we ingest the corpus. Ensure you do not run this more than once!"
   ]
  },
  {
   "cell_type": "code",
   "execution_count": 6,
   "metadata": {},
   "outputs": [],
   "source": [
    "# for request in tqdm(ingestions):\n",
    "#     response = cl.put(\n",
    "#         data=request,\n",
    "#         endpoint= os.environ[\"PEGA_BASE_URL\"]+\"indexes\"\n",
    "#     )\n",
    "\n",
    "# assert response.status_code == 202"
   ]
  },
  {
   "cell_type": "markdown",
   "metadata": {},
   "source": [
    "## Generating questions\n",
    "Now we generate some evaluation questions. In the cell below we define the prompt used to generate questions. If you make edits, make sure to maintain the json structure in the instructions. Furthermore, if you add or remove any arguments such as `num_questions_per_document`, you should also change the prompt_keys."
   ]
  },
  {
   "cell_type": "code",
   "execution_count": 7,
   "metadata": {},
   "outputs": [],
   "source": [
    "prompt = ChatPromptTemplate.from_messages(\n",
    "    [\n",
    "        (\n",
    "            \"human\",\n",
    "            \"\"\"\\\n",
    "                Context information is below..\n",
    "\n",
    "                -----------------------------\n",
    "                {context}\n",
    "                -----------------------------\n",
    "\n",
    "                Given the context information and not prior knowledge.\n",
    "                Generate only questions based on the below query.\n",
    "\n",
    "                You are a Professor. Your task is to setup \\\n",
    "                {num_questions_per_document} questions for an upcoming \\\n",
    "                quiz/examination. The questions should be diverse in nature \\\n",
    "                across the document. The questions should not contain options, not start with Q1/Q2. \\\n",
    "                Restrict the questions to the context information provided.\\\n",
    "                Provide the correct answers together with the questions in json format, using 'question' and 'reference' as keys.\\\n",
    "                Make sure you fact check your work.\n",
    "            \"\"\"\n",
    "        )\n",
    "    ]\n",
    ");\n",
    "prompt_keys = ['context', 'num_questions_per_document']"
   ]
  },
  {
   "cell_type": "markdown",
   "metadata": {},
   "source": [
    "Then, we load the dataset and generate a few evaluation questions"
   ]
  },
  {
   "cell_type": "code",
   "execution_count": 8,
   "metadata": {},
   "outputs": [
    {
     "name": "stdout",
     "output_type": "stream",
     "text": [
      "These questions were already generated.\n"
     ]
    }
   ],
   "source": [
    "# Initialize the dataset\n",
    "ds = MultiDocDataSet(\n",
    "    name=config[\"dataset_name\"],\n",
    "    experiment_name = config['experiment_name'],\n",
    ")\n",
    "\n",
    "# Initialize the generator\n",
    "ds.init_generator(\n",
    "    prompt = prompt,\n",
    "    prompt_keys = prompt_keys\n",
    ")\n",
    "\n",
    "# Generate questions if it has not been done yet\n",
    "try:\n",
    "    ds.generate_and_save(\n",
    "        prompt_args = {\n",
    "            \"num_questions_per_document\" : 5\n",
    "            # context is the only prompt arg that is automatically specified.\n",
    "        },\n",
    "        data_type=config['dataset_name'],\n",
    "        allow_overwrite=False,\n",
    "        min_doc_length=0,\n",
    "        num_source_docs=config[\"num_source_docs\"]\n",
    "    )\n",
    "except FileExistsError:\n",
    "    print(\"These questions were already generated.\")\n",
    "\n",
    "# Load questions\n",
    "ds.load_generated_questions(\n",
    "    data_type=config['dataset_name'],\n",
    "    use_doc_ids=True\n",
    ");"
   ]
  },
  {
   "cell_type": "markdown",
   "metadata": {},
   "source": [
    "Here we have the questions :)"
   ]
  },
  {
   "cell_type": "code",
   "execution_count": 9,
   "metadata": {},
   "outputs": [
    {
     "data": {
      "text/html": [
       "<style type=\"text/css\">\n",
       "#T_6bcbc_row0_col0, #T_6bcbc_row0_col1, #T_6bcbc_row1_col0, #T_6bcbc_row1_col1, #T_6bcbc_row2_col0, #T_6bcbc_row2_col1, #T_6bcbc_row3_col0, #T_6bcbc_row3_col1, #T_6bcbc_row4_col0, #T_6bcbc_row4_col1 {\n",
       "  text-align: left;\n",
       "}\n",
       "</style>\n",
       "<table id=\"T_6bcbc\">\n",
       "  <thead>\n",
       "    <tr>\n",
       "      <th class=\"blank level0\" >&nbsp;</th>\n",
       "      <th id=\"T_6bcbc_level0_col0\" class=\"col_heading level0 col0\" >question</th>\n",
       "      <th id=\"T_6bcbc_level0_col1\" class=\"col_heading level0 col1\" >reference</th>\n",
       "    </tr>\n",
       "  </thead>\n",
       "  <tbody>\n",
       "    <tr>\n",
       "      <th id=\"T_6bcbc_level0_row0\" class=\"row_heading level0 row0\" >0</th>\n",
       "      <td id=\"T_6bcbc_row0_col0\" class=\"data row0 col0\" >What year was FC Utrecht founded, and what was the reason for its formation?</td>\n",
       "      <td id=\"T_6bcbc_row0_col1\" class=\"data row0 col1\" >FC Utrecht was founded on 1 July 1970 as a merger between local clubs VV DOS, USV Elinkwijk, and Velox to continue professional football at a top level in Utrecht.</td>\n",
       "    </tr>\n",
       "    <tr>\n",
       "      <th id=\"T_6bcbc_level0_row1\" class=\"row_heading level0 row1\" >1</th>\n",
       "      <td id=\"T_6bcbc_row1_col0\" class=\"data row1 col0\" >Which notable achievement did FC Utrecht accomplish in 2004 that distinguished it from the traditional Dutch Big Three?</td>\n",
       "      <td id=\"T_6bcbc_row1_col1\" class=\"data row1 col1\" >In 2004, FC Utrecht won the Johan Cruyff Shield, becoming the first club outside the traditional Dutch Big Three to do so.</td>\n",
       "    </tr>\n",
       "    <tr>\n",
       "      <th id=\"T_6bcbc_level0_row2\" class=\"row_heading level0 row2\" >2</th>\n",
       "      <td id=\"T_6bcbc_row2_col0\" class=\"data row2 col0\" >What was the outcome of FC Utrecht's first official match, and who scored the club's first goal?</td>\n",
       "      <td id=\"T_6bcbc_row2_col1\" class=\"data row2 col1\" >FC Utrecht's first official match was against Feyenoord, where they lost 4–1 despite taking a 0–1 lead with Groenendijk scoring the club's first goal.</td>\n",
       "    </tr>\n",
       "    <tr>\n",
       "      <th id=\"T_6bcbc_level0_row3\" class=\"row_heading level0 row3\" >3</th>\n",
       "      <td id=\"T_6bcbc_row3_col0\" class=\"data row3 col0\" >What significant financial issues did FC Utrecht face in the early 1980s, and how did the community respond?</td>\n",
       "      <td id=\"T_6bcbc_row3_col1\" class=\"data row3 col1\" >In the early 1980s, FC Utrecht faced financial malpractices and was placed under a debt moratorium, leading to a community campaign that collected 66,000 signatures to retain the club.</td>\n",
       "    </tr>\n",
       "    <tr>\n",
       "      <th id=\"T_6bcbc_level0_row4\" class=\"row_heading level0 row4\" >4</th>\n",
       "      <td id=\"T_6bcbc_row4_col0\" class=\"data row4 col0\" >Who was the first manager of FC Utrecht, and what was the composition of the first-team squad in their inaugural season?</td>\n",
       "      <td id=\"T_6bcbc_row4_col1\" class=\"data row4 col1\" >The first manager of FC Utrecht was Bert Jacobs, and the first-team squad in their inaugural season consisted almost entirely of former players from DOS, Velox, and USV Elinkwijk.</td>\n",
       "    </tr>\n",
       "  </tbody>\n",
       "</table>\n"
      ],
      "text/plain": [
       "<pandas.io.formats.style.Styler at 0x158807e34d0>"
      ]
     },
     "execution_count": 9,
     "metadata": {},
     "output_type": "execute_result"
    }
   ],
   "source": [
    "pd.options.display.max_colwidth = 1000\n",
    "questions = pd.DataFrame.from_dict(ds.questions)\n",
    "questions.style.set_properties(**{'text-align':'left'})"
   ]
  },
  {
   "cell_type": "code",
   "execution_count": 10,
   "metadata": {},
   "outputs": [
    {
     "name": "stdout",
     "output_type": "stream",
     "text": [
      "Descriptives of the synthetic QA pairs of the football dataset:\n"
     ]
    },
    {
     "data": {
      "text/html": [
       "<div>\n",
       "<style scoped>\n",
       "    .dataframe tbody tr th:only-of-type {\n",
       "        vertical-align: middle;\n",
       "    }\n",
       "\n",
       "    .dataframe tbody tr th {\n",
       "        vertical-align: top;\n",
       "    }\n",
       "\n",
       "    .dataframe thead th {\n",
       "        text-align: right;\n",
       "    }\n",
       "</style>\n",
       "<table border=\"1\" class=\"dataframe\">\n",
       "  <thead>\n",
       "    <tr style=\"text-align: right;\">\n",
       "      <th></th>\n",
       "      <th>Value</th>\n",
       "    </tr>\n",
       "  </thead>\n",
       "  <tbody>\n",
       "    <tr>\n",
       "      <th>N questions</th>\n",
       "      <td>5.00</td>\n",
       "    </tr>\n",
       "    <tr>\n",
       "      <th>Mean question length</th>\n",
       "      <td>17.60</td>\n",
       "    </tr>\n",
       "    <tr>\n",
       "      <th>SD question length</th>\n",
       "      <td>2.24</td>\n",
       "    </tr>\n",
       "    <tr>\n",
       "      <th>Shortest question</th>\n",
       "      <td>14.00</td>\n",
       "    </tr>\n",
       "    <tr>\n",
       "      <th>Longest question</th>\n",
       "      <td>21.00</td>\n",
       "    </tr>\n",
       "    <tr>\n",
       "      <th>Mean answer length</th>\n",
       "      <td>26.80</td>\n",
       "    </tr>\n",
       "    <tr>\n",
       "      <th>SD answer length</th>\n",
       "      <td>3.19</td>\n",
       "    </tr>\n",
       "    <tr>\n",
       "      <th>Shortest answer</th>\n",
       "      <td>22.00</td>\n",
       "    </tr>\n",
       "    <tr>\n",
       "      <th>Longest answer</th>\n",
       "      <td>30.00</td>\n",
       "    </tr>\n",
       "  </tbody>\n",
       "</table>\n",
       "</div>"
      ],
      "text/plain": [
       "                      Value\n",
       "N questions            5.00\n",
       "Mean question length  17.60\n",
       "SD question length     2.24\n",
       "Shortest question     14.00\n",
       "Longest question      21.00\n",
       "Mean answer length    26.80\n",
       "SD answer length       3.19\n",
       "Shortest answer       22.00\n",
       "Longest answer        30.00"
      ]
     },
     "execution_count": 10,
     "metadata": {},
     "output_type": "execute_result"
    }
   ],
   "source": [
    "question_descriptives = ds.get_question_descriptives()\n",
    "print(f\"Descriptives of the synthetic QA pairs of the {config[\"dataset_name\"]} dataset:\")\n",
    "pd.DataFrame.from_dict(question_descriptives, orient=\"index\", columns=[\"Value\"]).round(2)"
   ]
  },
  {
   "cell_type": "markdown",
   "metadata": {},
   "source": [
    "## Prediction\n",
    "The below code asks all the loaded questions to the buddy."
   ]
  },
  {
   "cell_type": "code",
   "execution_count": 11,
   "metadata": {},
   "outputs": [
    {
     "name": "stdout",
     "output_type": "stream",
     "text": [
      "predictions for the FootballBuddy buddy have already been made. Set overwrite to true or create a new experiment under a different name to make predictions.\n"
     ]
    }
   ],
   "source": [
    "for buddy in config[\"buddies\"]:\n",
    "    try:\n",
    "        await ds.predict_and_save(\n",
    "            knowledge_buddy_client=cl,\n",
    "            buddy_name=buddy,\n",
    "            include_search_results=True,\n",
    "            allow_overwrite=False\n",
    "        )\n",
    "    except FileExistsError:\n",
    "        print(f\"predictions for the {buddy} buddy have already been made. Set overwrite to true or create a new experiment under a different name to make predictions.\")"
   ]
  },
  {
   "cell_type": "code",
   "execution_count": 12,
   "metadata": {},
   "outputs": [
    {
     "name": "stdout",
     "output_type": "stream",
     "text": [
      "Loaded FootballBuddy answers and updated predictions path\n"
     ]
    },
    {
     "data": {
      "text/html": [
       "<div>\n",
       "<style scoped>\n",
       "    .dataframe tbody tr th:only-of-type {\n",
       "        vertical-align: middle;\n",
       "    }\n",
       "\n",
       "    .dataframe tbody tr th {\n",
       "        vertical-align: top;\n",
       "    }\n",
       "\n",
       "    .dataframe thead th {\n",
       "        text-align: right;\n",
       "    }\n",
       "</style>\n",
       "<table border=\"1\" class=\"dataframe\">\n",
       "  <thead>\n",
       "    <tr style=\"text-align: right;\">\n",
       "      <th></th>\n",
       "      <th>question</th>\n",
       "      <th>reference</th>\n",
       "      <th>Answer</th>\n",
       "    </tr>\n",
       "  </thead>\n",
       "  <tbody>\n",
       "    <tr>\n",
       "      <th>0</th>\n",
       "      <td>What year was FC Utrecht founded, and what was the reason for its formation?</td>\n",
       "      <td>FC Utrecht was founded on 1 July 1970 as a merger between local clubs VV DOS, USV Elinkwijk, and Velox to continue professional football at a top level in Utrecht.</td>\n",
       "      <td>FC Utrecht was founded on 1 July 1970. The reason for its formation was a merger between the professional departments of the local clubs VV DOS, Velox and USV Elinkwijk.</td>\n",
       "    </tr>\n",
       "    <tr>\n",
       "      <th>1</th>\n",
       "      <td>Which notable achievement did FC Utrecht accomplish in 2004 that distinguished it from the traditional Dutch Big Three?</td>\n",
       "      <td>In 2004, FC Utrecht won the Johan Cruyff Shield, becoming the first club outside the traditional Dutch Big Three to do so.</td>\n",
       "      <td>According to the CONTEXT, in 2004 FC Utrecht won the Johan Cruyff Shield at the expense of Ajax (2-1), as Hans Somers claimed a key role with two crucial goals. This was notable as FC Utrecht was the first club outside the traditional Dutch Big Three to win the Johan Cruyff Shield.</td>\n",
       "    </tr>\n",
       "    <tr>\n",
       "      <th>2</th>\n",
       "      <td>What was the outcome of FC Utrecht's first official match, and who scored the club's first goal?</td>\n",
       "      <td>FC Utrecht's first official match was against Feyenoord, where they lost 4–1 despite taking a 0–1 lead with Groenendijk scoring the club's first goal.</td>\n",
       "      <td>According to the CONTEXT, FC Utrecht's first official match was against defending European Cup winners Feyenoord. Groenendijk scored Utrecht's first goal, but despite the 0-1 lead, the team eventually lost 4-1.</td>\n",
       "    </tr>\n",
       "    <tr>\n",
       "      <th>3</th>\n",
       "      <td>What significant financial issues did FC Utrecht face in the early 1980s, and how did the community respond?</td>\n",
       "      <td>In the early 1980s, FC Utrecht faced financial malpractices and was placed under a debt moratorium, leading to a community campaign that collected 66,000 signatures to retain the club.</td>\n",
       "      <td>According to the CONTEXT, in the early 1980s, FC Utrecht faced significant financial malpractices, including not paying national insurance contributions and taxes on signing bonuses, as well as fraud with receipts. This led to the club being placed under a debt moratorium, and bankruptcy seemed inevitable at that point.\\n\\nHowever, the community responded strongly to support the club. Players and supporters organized campaigns, and through a petition, they managed to collect 66,000 signatures for the retention of the club. The municipality of Utrecht eventually decided to respond to the massive local support and covered the club's expenses.</td>\n",
       "    </tr>\n",
       "    <tr>\n",
       "      <th>4</th>\n",
       "      <td>Who was the first manager of FC Utrecht, and what was the composition of the first-team squad in their inaugural season?</td>\n",
       "      <td>The first manager of FC Utrecht was Bert Jacobs, and the first-team squad in their inaugural season consisted almost entirely of former players from DOS, Velox, and USV Elinkwijk.</td>\n",
       "      <td>According to the CONTEXT provided, the first manager of FC Utrecht was Bert Jacobs, the then 29-year-old head coach of Velox, who was joined by 24-year-old Fritz Korbach from USV Elinkwijk as assistant. In the first season, the Utrecht first-team squad consisted almost entirely of former players from DOS, Velox and USV Elinkwijk. Only one outside player was recruited, as defender Co Adriaanse was signed for ƒ 125,000 from De Volewijckers from Amsterdam. The core of the squad also consisted of former DOS players Cor Hildebrand, Ed van Stijn, Piet van Oudenallen, Tom Nieuwenhuys and John Steen Olsen, former Elinkwijk players Joop Leliveld, Jan Blaauw, Dick Teunissen and Jan Groenendijk and former Velox player Marco Cabo.</td>\n",
       "    </tr>\n",
       "  </tbody>\n",
       "</table>\n",
       "</div>"
      ],
      "text/plain": [
       "                                                                                                                   question  \\\n",
       "0                                              What year was FC Utrecht founded, and what was the reason for its formation?   \n",
       "1   Which notable achievement did FC Utrecht accomplish in 2004 that distinguished it from the traditional Dutch Big Three?   \n",
       "2                          What was the outcome of FC Utrecht's first official match, and who scored the club's first goal?   \n",
       "3              What significant financial issues did FC Utrecht face in the early 1980s, and how did the community respond?   \n",
       "4  Who was the first manager of FC Utrecht, and what was the composition of the first-team squad in their inaugural season?   \n",
       "\n",
       "                                                                                                                                                                                  reference  \\\n",
       "0                       FC Utrecht was founded on 1 July 1970 as a merger between local clubs VV DOS, USV Elinkwijk, and Velox to continue professional football at a top level in Utrecht.   \n",
       "1                                                                In 2004, FC Utrecht won the Johan Cruyff Shield, becoming the first club outside the traditional Dutch Big Three to do so.   \n",
       "2                                    FC Utrecht's first official match was against Feyenoord, where they lost 4–1 despite taking a 0–1 lead with Groenendijk scoring the club's first goal.   \n",
       "3  In the early 1980s, FC Utrecht faced financial malpractices and was placed under a debt moratorium, leading to a community campaign that collected 66,000 signatures to retain the club.   \n",
       "4       The first manager of FC Utrecht was Bert Jacobs, and the first-team squad in their inaugural season consisted almost entirely of former players from DOS, Velox, and USV Elinkwijk.   \n",
       "\n",
       "                                                                                                                                                                                                                                                                                                                                                                                                                                                                                                                                                                                                                                                                                                                                                     Answer  \n",
       "0                                                                                                                                                                                                                                                                                                                                                                                                                                                                                                                                                                                 FC Utrecht was founded on 1 July 1970. The reason for its formation was a merger between the professional departments of the local clubs VV DOS, Velox and USV Elinkwijk.  \n",
       "1                                                                                                                                                                                                                                                                                                                                                                                                                                                                According to the CONTEXT, in 2004 FC Utrecht won the Johan Cruyff Shield at the expense of Ajax (2-1), as Hans Somers claimed a key role with two crucial goals. This was notable as FC Utrecht was the first club outside the traditional Dutch Big Three to win the Johan Cruyff Shield.  \n",
       "2                                                                                                                                                                                                                                                                                                                                                                                                                                                                                                                                        According to the CONTEXT, FC Utrecht's first official match was against defending European Cup winners Feyenoord. Groenendijk scored Utrecht's first goal, but despite the 0-1 lead, the team eventually lost 4-1.  \n",
       "3                                                                                  According to the CONTEXT, in the early 1980s, FC Utrecht faced significant financial malpractices, including not paying national insurance contributions and taxes on signing bonuses, as well as fraud with receipts. This led to the club being placed under a debt moratorium, and bankruptcy seemed inevitable at that point.\\n\\nHowever, the community responded strongly to support the club. Players and supporters organized campaigns, and through a petition, they managed to collect 66,000 signatures for the retention of the club. The municipality of Utrecht eventually decided to respond to the massive local support and covered the club's expenses.  \n",
       "4  According to the CONTEXT provided, the first manager of FC Utrecht was Bert Jacobs, the then 29-year-old head coach of Velox, who was joined by 24-year-old Fritz Korbach from USV Elinkwijk as assistant. In the first season, the Utrecht first-team squad consisted almost entirely of former players from DOS, Velox and USV Elinkwijk. Only one outside player was recruited, as defender Co Adriaanse was signed for ƒ 125,000 from De Volewijckers from Amsterdam. The core of the squad also consisted of former DOS players Cor Hildebrand, Ed van Stijn, Piet van Oudenallen, Tom Nieuwenhuys and John Steen Olsen, former Elinkwijk players Joop Leliveld, Jan Blaauw, Dick Teunissen and Jan Groenendijk and former Velox player Marco Cabo.  "
      ]
     },
     "execution_count": 12,
     "metadata": {},
     "output_type": "execute_result"
    }
   ],
   "source": [
    "output = ds.load_evaluation_dataset(\"FootballBuddy\")\n",
    "questions[\"Answer\"] = [s.response for s in output.samples]\n",
    "questions"
   ]
  },
  {
   "cell_type": "markdown",
   "metadata": {},
   "source": [
    "## Evaluation"
   ]
  },
  {
   "cell_type": "markdown",
   "metadata": {},
   "source": [
    "We get the results by calculating the specified metrics based on the obtained answers and the reference answers. We get `results`, containing the metrics of all individual questions, and `simple_results` containing only the average values."
   ]
  },
  {
   "cell_type": "code",
   "execution_count": 13,
   "metadata": {},
   "outputs": [
    {
     "name": "stdout",
     "output_type": "stream",
     "text": [
      "Loaded FootballBuddy answers and updated predictions path\n",
      "Loaded FootballBuddy rejections and updated predictions path\n",
      "Results are already calculated. If you want to change metrics, set overwrite=True.\n",
      "loaded results succesfully.\n"
     ]
    }
   ],
   "source": [
    "results, simple_results = eval_dataset(ds, config, overwrite=False, upload=False)"
   ]
  },
  {
   "cell_type": "code",
   "execution_count": 14,
   "metadata": {},
   "outputs": [
    {
     "data": {
      "text/html": [
       "<div>\n",
       "<style scoped>\n",
       "    .dataframe tbody tr th:only-of-type {\n",
       "        vertical-align: middle;\n",
       "    }\n",
       "\n",
       "    .dataframe tbody tr th {\n",
       "        vertical-align: top;\n",
       "    }\n",
       "\n",
       "    .dataframe thead th {\n",
       "        text-align: right;\n",
       "    }\n",
       "</style>\n",
       "<table border=\"1\" class=\"dataframe\">\n",
       "  <thead>\n",
       "    <tr style=\"text-align: right;\">\n",
       "      <th></th>\n",
       "      <th>FootballBuddy</th>\n",
       "    </tr>\n",
       "  </thead>\n",
       "  <tbody>\n",
       "    <tr>\n",
       "      <th>bleu_score</th>\n",
       "      <td>0.177</td>\n",
       "    </tr>\n",
       "    <tr>\n",
       "      <th>rouge_score(mode=fmeasure)</th>\n",
       "      <td>0.444</td>\n",
       "    </tr>\n",
       "    <tr>\n",
       "      <th>string_present</th>\n",
       "      <td>0.000</td>\n",
       "    </tr>\n",
       "    <tr>\n",
       "      <th>non_llm_string_similarity</th>\n",
       "      <td>0.325</td>\n",
       "    </tr>\n",
       "    <tr>\n",
       "      <th>semantic_similarity</th>\n",
       "      <td>0.900</td>\n",
       "    </tr>\n",
       "    <tr>\n",
       "      <th>false_negatives</th>\n",
       "      <td>0.000</td>\n",
       "    </tr>\n",
       "    <tr>\n",
       "      <th>answer_length_mean</th>\n",
       "      <td>65.000</td>\n",
       "    </tr>\n",
       "    <tr>\n",
       "      <th>answer_length_sd</th>\n",
       "      <td>34.963</td>\n",
       "    </tr>\n",
       "    <tr>\n",
       "      <th>answer_length_min</th>\n",
       "      <td>30.000</td>\n",
       "    </tr>\n",
       "    <tr>\n",
       "      <th>answer_length_max</th>\n",
       "      <td>116.000</td>\n",
       "    </tr>\n",
       "  </tbody>\n",
       "</table>\n",
       "</div>"
      ],
      "text/plain": [
       "                            FootballBuddy\n",
       "bleu_score                          0.177\n",
       "rouge_score(mode=fmeasure)          0.444\n",
       "string_present                      0.000\n",
       "non_llm_string_similarity           0.325\n",
       "semantic_similarity                 0.900\n",
       "false_negatives                     0.000\n",
       "answer_length_mean                 65.000\n",
       "answer_length_sd                   34.963\n",
       "answer_length_min                  30.000\n",
       "answer_length_max                 116.000"
      ]
     },
     "execution_count": 14,
     "metadata": {},
     "output_type": "execute_result"
    }
   ],
   "source": [
    "df = pd.DataFrame(simple_results).round(3)\n",
    "df"
   ]
  },
  {
   "cell_type": "code",
   "execution_count": null,
   "metadata": {},
   "outputs": [],
   "source": []
  }
 ],
 "metadata": {
  "kernelspec": {
   "display_name": ".venv",
   "language": "python",
   "name": "python3"
  },
  "language_info": {
   "codemirror_mode": {
    "name": "ipython",
    "version": 3
   },
   "file_extension": ".py",
   "mimetype": "text/x-python",
   "name": "python",
   "nbconvert_exporter": "python",
   "pygments_lexer": "ipython3",
   "version": "3.13.2"
  }
 },
 "nbformat": 4,
 "nbformat_minor": 2
}
